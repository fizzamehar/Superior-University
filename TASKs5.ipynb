{
 "cells": [
  {
   "cell_type": "code",
   "execution_count": 2,
   "metadata": {},
   "outputs": [
    {
     "name": "stdout",
     "output_type": "stream",
     "text": [
      "1\n",
      "3\n",
      "6\n",
      "8\n",
      "the goal node : 8\n",
      "DFS traversal is completed\n"
     ]
    }
   ],
   "source": [
    "# TASK1\n",
    "# DFS with the help of stack and node\n",
    "Graph = {\n",
    "    '1': ['2', '3'],\n",
    "    '2': ['4', '5'],\n",
    "    '3': ['6'],\n",
    "    '4': [],\n",
    "    '5': ['7'],\n",
    "    '6': ['8'],\n",
    "    '7': [],\n",
    "    '8': []\n",
    "}\n",
    "\n",
    "def dfs(Graph,starting_node,goal):\n",
    "    stack=[starting_node]\n",
    "    visited=[]\n",
    "\n",
    "    while stack:\n",
    "        node=stack.pop()\n",
    "        if node not in visited:\n",
    "            print(node)\n",
    "            visited.append(node)\n",
    "        if node == goal:\n",
    "            print(f\"the goal node : {goal}\")\n",
    "            return\n",
    "        \n",
    "        for neighbour in Graph[node]:\n",
    "            if neighbour not in visited:\n",
    "                stack.append(neighbour)\n",
    "                \n",
    "    print(\"\\nDonot found a goal node\", end=\" \")\n",
    "    \n",
    "dfs(Graph,\"1\",'8')\n",
    "print(\"DFS traversal is completed\")\n"
   ]
  },
  {
   "cell_type": "code",
   "execution_count": 24,
   "metadata": {},
   "outputs": [
    {
     "name": "stdout",
     "output_type": "stream",
     "text": [
      "DFS_pre_order traversal is :3 6 8 \n",
      "DFS_in_order traversal is: 8 6 3 \n",
      "DFS_post_order traversal is: 8 6 3 "
     ]
    }
   ],
   "source": [
    "# TASK2\n",
    "graph = {\n",
    "    '1': ['2', '3'],\n",
    "    '2': ['4', '5'],\n",
    "    '3': ['6'],\n",
    "    '4': [],\n",
    "    '5': ['7'],\n",
    "    '6': ['8'],\n",
    "    '7': [],\n",
    "    '8': []\n",
    "}\n",
    "\n",
    "def dfs_pre_order(visited, graph, node):\n",
    "    if node not in visited:\n",
    "        print(node, end=' ')\n",
    "        visited.add(node)\n",
    "        for neighbor in graph[node]:\n",
    "            dfs_pre_order(visited, graph, neighbor)\n",
    "\n",
    "def dfs_in_order(visited, graph, node):\n",
    "    if node not in visited:\n",
    "        visited.add(node)\n",
    "        neighbors = graph[node]\n",
    "        if neighbors:\n",
    "            dfs_in_order(visited, graph, neighbors[0])\n",
    "        print(node, end=' ')\n",
    "        for neighbor in neighbors[1:]:\n",
    "            dfs_in_order(visited, graph, neighbor)\n",
    "\n",
    "def dfs_post_order(visited, graph, node):\n",
    "    if node not in visited:\n",
    "        visited.add(node)\n",
    "        for neighbor in graph[node]:\n",
    "            dfs_post_order(visited, graph, neighbor)\n",
    "        print(node, end=' ')\n",
    "\n",
    "print(\"DFS_pre_order traversal is :\", end=\"\")\n",
    "visited_pre_order = set()\n",
    "dfs_pre_order(visited_pre_order, graph, '3')\n",
    "\n",
    "print(\"\\nDFS_in_order traversal is: \", end=\"\")\n",
    "visited_in_order = set()\n",
    "dfs_in_order(visited_in_order, graph, '3')\n",
    "\n",
    "print(\"\\nDFS_post_order traversal is: \", end=\"\")\n",
    "visited_post_order = set()\n",
    "dfs_post_order(visited_post_order, graph, '3')\n"
   ]
  },
  {
   "cell_type": "code",
   "execution_count": null,
   "metadata": {},
   "outputs": [],
   "source": []
  }
 ],
 "metadata": {
  "kernelspec": {
   "display_name": "Python 3",
   "language": "python",
   "name": "python3"
  },
  "language_info": {
   "codemirror_mode": {
    "name": "ipython",
    "version": 3
   },
   "file_extension": ".py",
   "mimetype": "text/x-python",
   "name": "python",
   "nbconvert_exporter": "python",
   "pygments_lexer": "ipython3",
   "version": "3.12.1"
  }
 },
 "nbformat": 4,
 "nbformat_minor": 2
}
