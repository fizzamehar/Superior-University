{
 "cells": [
  {
   "cell_type": "code",
   "execution_count": 13,
   "metadata": {},
   "outputs": [
    {
     "name": "stdout",
     "output_type": "stream",
     "text": [
      "Visiting Node is : 2\n",
      "Visiting Node is : 4\n",
      "Visiting Node is : 5\n",
      "Visiting Node is : 7\n",
      "Depth for search traverse is successfully completed\n"
     ]
    }
   ],
   "source": [
    "# TASK1\n",
    "# DFS with the help of stack and node\n",
    "Graph = {\n",
    "    '1': ['2', '3'],\n",
    "    '2': ['4', '5'],\n",
    "    '3': ['6'],\n",
    "    '4': [],\n",
    "    '5': ['7'],\n",
    "    '6': ['8'],\n",
    "    '7': [],\n",
    "    '8': []\n",
    "}\n",
    "\n",
    "visited = set()\n",
    "\n",
    "def dfs(visited, Graph, starting_node):\n",
    "    if starting_node not in visited:\n",
    "        print(f\"Visiting Node is : {starting_node}\") \n",
    "        visited.add(starting_node) \n",
    "\n",
    "        for neighbors in Graph[starting_node]:\n",
    "            dfs(visited, Graph, neighbors)\n",
    "\n",
    "dfs(visited, Graph, '2')\n",
    "print(\"Depth for search traverse is successfully completed\")\n",
    "\n"
   ]
  },
  {
   "cell_type": "code",
   "execution_count": 24,
   "metadata": {},
   "outputs": [
    {
     "name": "stdout",
     "output_type": "stream",
     "text": [
      "DFS_pre_order traversal is :3 6 8 \n",
      "DFS_in_order traversal is: 8 6 3 \n",
      "DFS_post_order traversal is: 8 6 3 "
     ]
    }
   ],
   "source": [
    "# TASK2\n",
    "graph = {\n",
    "    '1': ['2', '3'],\n",
    "    '2': ['4', '5'],\n",
    "    '3': ['6'],\n",
    "    '4': [],\n",
    "    '5': ['7'],\n",
    "    '6': ['8'],\n",
    "    '7': [],\n",
    "    '8': []\n",
    "}\n",
    "\n",
    "def dfs_pre_order(visited, graph, node):\n",
    "    if node not in visited:\n",
    "        print(node, end=' ')\n",
    "        visited.add(node)\n",
    "        for neighbor in graph[node]:\n",
    "            dfs_pre_order(visited, graph, neighbor)\n",
    "\n",
    "def dfs_in_order(visited, graph, node):\n",
    "    if node not in visited:\n",
    "        visited.add(node)\n",
    "        neighbors = graph[node]\n",
    "        if neighbors:\n",
    "            dfs_in_order(visited, graph, neighbors[0])\n",
    "        print(node, end=' ')\n",
    "        for neighbor in neighbors[1:]:\n",
    "            dfs_in_order(visited, graph, neighbor)\n",
    "\n",
    "def dfs_post_order(visited, graph, node):\n",
    "    if node not in visited:\n",
    "        visited.add(node)\n",
    "        for neighbor in graph[node]:\n",
    "            dfs_post_order(visited, graph, neighbor)\n",
    "        print(node, end=' ')\n",
    "\n",
    "print(\"DFS_pre_order traversal is :\", end=\"\")\n",
    "visited_pre_order = set()\n",
    "dfs_pre_order(visited_pre_order, graph, '3')\n",
    "\n",
    "print(\"\\nDFS_in_order traversal is: \", end=\"\")\n",
    "visited_in_order = set()\n",
    "dfs_in_order(visited_in_order, graph, '3')\n",
    "\n",
    "print(\"\\nDFS_post_order traversal is: \", end=\"\")\n",
    "visited_post_order = set()\n",
    "dfs_post_order(visited_post_order, graph, '3')\n"
   ]
  },
  {
   "cell_type": "code",
   "execution_count": null,
   "metadata": {},
   "outputs": [],
   "source": []
  }
 ],
 "metadata": {
  "kernelspec": {
   "display_name": "Python 3",
   "language": "python",
   "name": "python3"
  },
  "language_info": {
   "codemirror_mode": {
    "name": "ipython",
    "version": 3
   },
   "file_extension": ".py",
   "mimetype": "text/x-python",
   "name": "python",
   "nbconvert_exporter": "python",
   "pygments_lexer": "ipython3",
   "version": "3.12.1"
  }
 },
 "nbformat": 4,
 "nbformat_minor": 2
}
