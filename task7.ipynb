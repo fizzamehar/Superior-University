{
 "cells": [
  {
   "cell_type": "code",
   "execution_count": 32,
   "metadata": {},
   "outputs": [
    {
     "name": "stdout",
     "output_type": "stream",
     "text": [
      "Path found [(1, 4), (1, 3), (2, 3), (2, 2), (2, 1), (2, 0), (3, 0), (4, 0)]\n"
     ]
    }
   ],
   "source": [
    "def A_star(map, start, end):\n",
    "    list = [start]\n",
    "    path = {}\n",
    "    g = {start: 0}\n",
    "    f = {start: heuristic(starting_point, goal_point)}\n",
    "\n",
    "    while list:\n",
    "        current = list[0]\n",
    "        for node in list:\n",
    "            if f.get(node, float('inf')) < f.get(current, float('inf')):\n",
    "                current = node\n",
    "        if current == goal_point:\n",
    "            return  build_path(path, current)  \n",
    "        list.remove(current)\n",
    "        for neighbor in neighbors_find(current, map):\n",
    "            tentative_g_score = g[current] + 1\n",
    "            if tentative_g_score < g.get(neighbor, float('inf')):\n",
    "                path[neighbor] = current\n",
    "                g[neighbor] = tentative_g_score\n",
    "                f[neighbor] = tentative_g_score + heuristic(neighbor, end)\n",
    "                if neighbor not in list:\n",
    "                    list.append(neighbor)                 \n",
    "    return None\n",
    "\n",
    "def heuristic(a, b):\n",
    "    return abs(a[0] - b[0]) + abs(a[1] - b[1])\n",
    "\n",
    "def neighbors_find(pos, map):\n",
    "    \n",
    "    directions = [(0, 1), (1, 0), (0, -1), (-1, 0)]\n",
    "    return [(pos[0] + d[0], pos[1] + d[1]) for d in directions\n",
    "            if 0 <= pos[0] + d[0] < len(map) and 0 <= pos[1] + d[1] < len(map[0])\n",
    "            and map[pos[0] + d[0]][pos[1] + d[1]] == 0]\n",
    "\n",
    "def build_path(path_tarck, current):\n",
    "    path = []\n",
    "    while current in path_tarck:\n",
    "        path.append(current)\n",
    "        current = path_tarck[current]\n",
    "    return path[::-1]\n",
    "\n",
    "map = [\n",
    "    [0, 0, 1, 1, 0],\n",
    "    [1, 0, 1, 0, 0],\n",
    "    [0, 0, 0, 0, 1],\n",
    "    [0, 1, 1, 0, 0],\n",
    "    [0, 0, 0, 1, 0]\n",
    "]\n",
    "\n",
    "starting_point = (0, 4)\n",
    "goal_point = (4, 0)\n",
    "path = A_star(map, starting_point,goal_point)\n",
    "print(\"Path found\" if path else \"No path found.\", path)\n"
   ]
  }
 ],
 "metadata": {
  "kernelspec": {
   "display_name": "Python 3",
   "language": "python",
   "name": "python3"
  },
  "language_info": {
   "codemirror_mode": {
    "name": "ipython",
    "version": 3
   },
   "file_extension": ".py",
   "mimetype": "text/x-python",
   "name": "python",
   "nbconvert_exporter": "python",
   "pygments_lexer": "ipython3",
   "version": "3.12.1"
  }
 },
 "nbformat": 4,
 "nbformat_minor": 2
}
