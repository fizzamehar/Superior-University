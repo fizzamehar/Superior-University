{
 "cells": [
  {
   "cell_type": "markdown",
   "metadata": {},
   "source": [
    "# Task: Model-Based Reflex Agent \n",
    "# This agent not only checks the current temperature but also remembers the previous action to avoid turning the heater on or off unnecessarily."
   ]
  },
  {
   "cell_type": "code",
   "execution_count": 3,
   "metadata": {},
   "outputs": [
    {
     "name": "stdout",
     "output_type": "stream",
     "text": [
      "Living Roomcurrent temp: 12 ==> Turn on the heater\n",
      "Bedroomcurrent temp: 26 ==> Turn off the heater\n",
      "Kitchencurrent temp: 30 ==> Turn off the heater\n",
      "Bathroomcurrent temp: 19 ==> Turn on the heater\n"
     ]
    }
   ],
   "source": [
    "class modelbaseagent:\n",
    "    def __init__(self, desired_temperature):\n",
    "        self.desired_temperature = desired_temperature\n",
    "        self.previous_actions = {}  \n",
    "\n",
    "    def perceive(self, current_temperature):\n",
    "        return current_temperature\n",
    "\n",
    "    def act(self, room, current_temperature):\n",
    "        if current_temperature < self.desired_temperature:\n",
    "            action = \"Turn on the heater\"\n",
    "        else:\n",
    "            action = \"Turn off the heater\"\n",
    "\n",
    "        if room in self.previous_actions:\n",
    "            if self.previous_actions[room] == action:\n",
    "                action = \"No action needed\"  \n",
    "        self.previous_actions[room] = action  \n",
    "        return action\n",
    "\n",
    "rooms = {\n",
    "    \"Living Room\": 12,\n",
    "    \"Bedroom\": 26,\n",
    "    \"Kitchen\": 30,\n",
    "    \"Bathroom\": 19\n",
    "}\n",
    "\n",
    "desired_temperature = 20\n",
    "agent = modelbaseagent(desired_temperature)\n",
    "\n",
    "for room, temperature in rooms.items():\n",
    "    action = agent.act(room, temperature)\n",
    "    print(f'{room}current temp: {temperature} ==> {action}')\n"
   ]
  },
  {
   "cell_type": "code",
   "execution_count": null,
   "metadata": {},
   "outputs": [],
   "source": []
  }
 ],
 "metadata": {
  "kernelspec": {
   "display_name": "Python 3",
   "language": "python",
   "name": "python3"
  },
  "language_info": {
   "codemirror_mode": {
    "name": "ipython",
    "version": 3
   },
   "file_extension": ".py",
   "mimetype": "text/x-python",
   "name": "python",
   "nbconvert_exporter": "python",
   "pygments_lexer": "ipython3",
   "version": "3.12.1"
  }
 },
 "nbformat": 4,
 "nbformat_minor": 2
}
