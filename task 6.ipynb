{
 "cells": [
  {
   "cell_type": "code",
   "execution_count": 9,
   "metadata": {},
   "outputs": [
    {
     "name": "stdout",
     "output_type": "stream",
     "text": [
      "breadth-first search\n",
      "A B C D E F G H "
     ]
    }
   ],
   "source": [
    "# TASK 2\n",
    "# BFS WITH QUES AND NODE\n",
    "graph = {\n",
    "    'A': ['B', 'C'],\n",
    "    'B': ['D', 'E'],\n",
    "    'C': ['F'],\n",
    "    'D': [],\n",
    "    'E': ['G'],\n",
    "    'F': ['H'],\n",
    "    'G': [],\n",
    "    'H': []\n",
    "}\n",
    "\n",
    "visited = [] \n",
    "queue = []    \n",
    "\n",
    "def bfs(visited, graph, node):\n",
    "    visited.append(node)\n",
    "    queue.append(node)\n",
    "    while queue:\n",
    "        a = queue.pop(0)  \n",
    "        print(a, end=\" \")  \n",
    "\n",
    "        for neighbour in graph[a]:\n",
    "            if neighbour not in visited:\n",
    "                visited.append(neighbour)\n",
    "                queue.append(neighbour)\n",
    "\n",
    "print(\"breadth-first search\")\n",
    "bfs(visited, graph, 'A')  "
   ]
  },
  {
   "cell_type": "code",
   "execution_count": 6,
   "metadata": {},
   "outputs": [
    {
     "name": "stdout",
     "output_type": "stream",
     "text": [
      "B D E \n",
      "['B', 'D', 'E']\n"
     ]
    }
   ],
   "source": [
    "# TASK1\n",
    "# BFS without queue and node\n",
    "\n",
    "tree = {\n",
    "    \"A\": ['B', 'C'],\n",
    "    'B': ['D', 'E'],\n",
    "    'C': ['F', 'G'],\n",
    "    'D': [],\n",
    "    \"E\": [],\n",
    "    \"F\": [],\n",
    "    \"G\": []\n",
    "}\n",
    "\n",
    "visited = []  \n",
    "\n",
    "def bfs(start_node, goal):\n",
    "    current_node = [start_node]\n",
    "    while current_node: \n",
    "        next_node = []  \n",
    "        for node in current_node:\n",
    "            if node not in visited: \n",
    "                print(node, end=' ')\n",
    "                visited.append(node)\n",
    "                if node == goal:\n",
    "                    return  \n",
    "                next_node.extend(tree[node])\n",
    "        current_node = next_node  \n",
    "\n",
    "bfs('B', 'G')\n",
    "print()\n",
    "print(visited)\n"
   ]
  }
 ],
 "metadata": {
  "kernelspec": {
   "display_name": "Python 3",
   "language": "python",
   "name": "python3"
  },
  "language_info": {
   "codemirror_mode": {
    "name": "ipython",
    "version": 3
   },
   "file_extension": ".py",
   "mimetype": "text/x-python",
   "name": "python",
   "nbconvert_exporter": "python",
   "pygments_lexer": "ipython3",
   "version": "3.12.1"
  }
 },
 "nbformat": 4,
 "nbformat_minor": 2
}
