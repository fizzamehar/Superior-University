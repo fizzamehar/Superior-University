{
 "cells": [
  {
   "cell_type": "code",
   "execution_count": 3,
   "metadata": {},
   "outputs": [
    {
     "name": "stdout",
     "output_type": "stream",
     "text": [
      "['m', '_', '_', '_', '_', '_', '_']\n",
      "['m', 'a', '_', '_', '_', '_', '_']\n",
      "['m', 'a', 'c', '_', '_', '_', '_']\n",
      "['m', 'a', 'c', '_', '_', '_', '_']\n",
      "   -----\n",
      "['m', 'a', 'c', '_', '_', '_', '_']\n",
      "   -----\n",
      "   |   |\n",
      "['m', 'a', 'c', '_', '_', '_', '_']\n",
      "   -----\n",
      "   |   |\n",
      "   |   O\n",
      "['m', 'a', 'c', 'h', '_', '_', '_']\n",
      "['m', 'a', 'c', 'h', '_', '_', '_']\n",
      "   -----\n",
      "   |   |\n",
      "   |   O\n",
      "   |  /|\\\n",
      "['m', 'a', 'c', 'h', '_', 'n', '_']\n",
      "['m', 'a', 'c', 'h', '_', 'n', 'e']\n",
      "['m', 'a', 'c', 'h', 'i', 'n', 'e']\n",
      "YOU WIN THE GAME\n"
     ]
    }
   ],
   "source": [
    "import random\n",
    "class Hangman:\n",
    "    def __init__(self,random_word_list,lives=6):\n",
    "        self.random_word_list=random_word_list\n",
    "        self.lives = lives\n",
    "        self.guess_random_words = random.choice(self.random_word_list)\n",
    "        self.display = ['_' for _ in range(len(self.guess_random_words))]\n",
    "\n",
    "        self.stages = [\n",
    "            \"   -----\",\n",
    "            \"   |   |\",\n",
    "            \"   |   O\",\n",
    "            \"   |  /|\\\\\",\n",
    "            \"   |  / \\\\\",\n",
    "            \"   |\"\n",
    "        ]\n",
    "\n",
    "        self.game_over = False\n",
    "    \n",
    "    def game_run(self):\n",
    "        while not self.game_over:\n",
    "            guess_words= input(\"guess any letter \").lower()\n",
    "            self.display_updated(guess_words)\n",
    "            self.guess_check(guess_words)\n",
    "            self.status_of_game()\n",
    "    \n",
    "    \n",
    "    def display_updated(self,guess_words):\n",
    "        for position in range(len(self.guess_random_words)):\n",
    "            if self.guess_random_words[position] == guess_words:\n",
    "                self.display[position] = guess_words\n",
    "        print(self.display)\n",
    "    \n",
    "    def guess_check(self, guess_word):\n",
    "        if guess_word not in self.guess_random_words:\n",
    "            self.lives -= 1\n",
    "            stage_lines = len(self.stages) - self.lives\n",
    "            for i in range(stage_lines):\n",
    "                print(self.stages[i])\n",
    "            if self.lives == 0:\n",
    "                self.game_over = True\n",
    "                print(\"YOU LOSE THE GAME\")\n",
    "                print(\"GAME OVER\")\n",
    "    def  status_of_game(self):\n",
    "        if '_' not in self.display:\n",
    "            self.game_over = True\n",
    "            print(\"YOU WIN THE GAME\")\n",
    "\n",
    "random_word_list=['python','java','machine']\n",
    "hg=Hangman(random_word_list)\n",
    "hg.game_run()\n",
    "\n",
    "\n",
    "\n"
   ]
  },
  {
   "cell_type": "code",
   "execution_count": null,
   "metadata": {},
   "outputs": [],
   "source": []
  }
 ],
 "metadata": {
  "kernelspec": {
   "display_name": "Python 3",
   "language": "python",
   "name": "python3"
  },
  "language_info": {
   "codemirror_mode": {
    "name": "ipython",
    "version": 3
   },
   "file_extension": ".py",
   "mimetype": "text/x-python",
   "name": "python",
   "nbconvert_exporter": "python",
   "pygments_lexer": "ipython3",
   "version": "3.12.1"
  }
 },
 "nbformat": 4,
 "nbformat_minor": 2
}
