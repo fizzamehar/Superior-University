{
 "cells": [
  {
   "cell_type": "code",
   "execution_count": 4,
   "metadata": {},
   "outputs": [
    {
     "name": "stdout",
     "output_type": "stream",
     "text": [
      "The best value is: 6\n"
     ]
    }
   ],
   "source": [
    "def minimax(depth, index_of_node, is_max, values, maximum_depth):\n",
    "\n",
    "    if depth == maximum_depth:\n",
    "        return values[index_of_node]\n",
    "    \n",
    "    if is_max:\n",
    "        return max(minimax(depth + 1, index_of_node * 2, False, values, maximum_depth),\n",
    "                   minimax(depth + 1, index_of_node * 2 + 1, False, values, maximum_depth))\n",
    "    else:\n",
    "        return min(minimax(depth + 1, index_of_node * 2, True, values, maximum_depth),\n",
    "                   minimax(depth + 1, index_of_node * 2 + 1, True, values, maximum_depth))\n",
    "\n",
    "\n",
    "values = [10, 3, 9, 12, 8, 6, 7, -4, 2, 9, 4, 1, -5, 11, 0, -2]  \n",
    "maximum_depth = 4  \n",
    "\n",
    "best_choice = minimax(0, 0, True, values, maximum_depth)\n",
    "print(\"The best value is:\", best_choice)\n"
   ]
  },
  {
   "cell_type": "code",
   "execution_count": null,
   "metadata": {},
   "outputs": [],
   "source": []
  }
 ],
 "metadata": {
  "kernelspec": {
   "display_name": "Python 3",
   "language": "python",
   "name": "python3"
  },
  "language_info": {
   "codemirror_mode": {
    "name": "ipython",
    "version": 3
   },
   "file_extension": ".py",
   "mimetype": "text/x-python",
   "name": "python",
   "nbconvert_exporter": "python",
   "pygments_lexer": "ipython3",
   "version": "3.12.1"
  }
 },
 "nbformat": 4,
 "nbformat_minor": 2
}
