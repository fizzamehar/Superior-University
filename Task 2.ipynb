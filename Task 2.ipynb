{
 "cells": [
  {
   "cell_type": "markdown",
   "metadata": {},
   "source": [
    "#FIZZBUZZ GAME "
   ]
  },
  {
   "cell_type": "code",
   "execution_count": 1,
   "metadata": {},
   "outputs": [
    {
     "name": "stdout",
     "output_type": "stream",
     "text": [
      "1\n",
      "2\n",
      "Fizz\n",
      "4\n",
      "Buzz\n",
      "Fizz\n",
      "7\n",
      "8\n",
      "Fizz\n"
     ]
    }
   ],
   "source": [
    "n = int(input(\"enter the number\"))\n",
    "\n",
    "for i in range(1, n + 1):\n",
    "    if i % 3 == 0 and i % 5 == 0:\n",
    "        print(\"FizzBuzz\")\n",
    "    elif i % 3 == 0:\n",
    "        print(\"Fizz\")\n",
    "    elif i % 5 == 0:\n",
    "        print(\"Buzz\")\n",
    "    else:\n",
    "        print(i)\n"
   ]
  },
  {
   "cell_type": "markdown",
   "metadata": {},
   "source": [
    "# BUDGET CALCULATE"
   ]
  },
  {
   "cell_type": "code",
   "execution_count": 4,
   "metadata": {},
   "outputs": [
    {
     "name": "stdout",
     "output_type": "stream",
     "text": [
      "Average budeget of movie is:166837500.0\n",
      "Pirates of the Caribbean: On Stranger Tides:379,000,000.00\n",
      "Avengers: Age of Ultron:365,000,000.00\n",
      "Avengers: Endgame:356,000,000.00\n",
      "Incredibles 2:200,000,000.00\n",
      "hight budget movies is : [('Pirates of the Caribbean: On Stranger Tides', 379000000), ('Avengers: Age of Ultron', 365000000), ('Avengers: Endgame', 356000000), ('Incredibles 2', 200000000)]\n"
     ]
    }
   ],
   "source": [
    "movies=[\n",
    "    (\"Eternal Sunshine of the Spotless Mind\", 20000000),\n",
    "    (\"Memento\", 9000000),\n",
    "    (\"Requiem for a Dream\", 4500000),\n",
    "    (\"Pirates of the Caribbean: On Stranger Tides\", 379000000),\n",
    "    (\"Avengers: Age of Ultron\", 365000000),\n",
    "    (\"Avengers: Endgame\", 356000000),\n",
    "    (\"Incredibles 2\", 200000000)\n",
    "]\n",
    "\n",
    "n=int(input(\"enter the movies how many movies you want to add\"))\n",
    "for i in range(n):\n",
    "    name=input(\"enter the name of the movie:\")\n",
    "    budget=int(input(\"enter the budget of movies:\"))\n",
    "    movies.append((name,budget))\n",
    "\n",
    "average_budget=sum(budget for i , budget in movies)/len(movies)\n",
    "print(f\"Average budeget of movie is:{average_budget}\")\n",
    "\n",
    "high_budget_movies=[movie for movie in movies if movie[1]> average_budget]\n",
    "for name,budget in high_budget_movies:\n",
    "    print(f\"{name}:{budget:,.2f}\" )\n",
    "print(f\"hight budget movies is : {high_budget_movies}\")"
   ]
  },
  {
   "cell_type": "code",
   "execution_count": null,
   "metadata": {},
   "outputs": [],
   "source": []
  }
 ],
 "metadata": {
  "kernelspec": {
   "display_name": "Python 3",
   "language": "python",
   "name": "python3"
  },
  "language_info": {
   "codemirror_mode": {
    "name": "ipython",
    "version": 3
   },
   "file_extension": ".py",
   "mimetype": "text/x-python",
   "name": "python",
   "nbconvert_exporter": "python",
   "pygments_lexer": "ipython3",
   "version": "3.12.1"
  }
 },
 "nbformat": 4,
 "nbformat_minor": 2
}
