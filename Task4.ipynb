{
 "cells": [
  {
   "cell_type": "markdown",
   "metadata": {
    "vscode": {
     "languageId": "plaintext"
    }
   },
   "source": [
    "Task 1: Code for LUHN Algorithm \n"
   ]
  },
  {
   "cell_type": "code",
   "execution_count": 1,
   "metadata": {},
   "outputs": [
    {
     "name": "stdout",
     "output_type": "stream",
     "text": [
      "THE CARD IS INVALID\n"
     ]
    }
   ],
   "source": [
    "def LUHN(card_num):\n",
    "    sum=0\n",
    "    for i in range(len(card_num)-1, -1 ,-1):\n",
    "        a=int(card_num[i])\n",
    "\n",
    "        if (len(card_num)-1)%2==0:\n",
    "            a= a*2\n",
    "\n",
    "        if a> 9 :\n",
    "            a-= 9\n",
    "\n",
    "        sum +=a\n",
    "\n",
    "    if sum % 10 ==0:  \n",
    "        print(\"THE CARD IS VALID\")\n",
    "    else:\n",
    "        print('THE CARD IS INVALID')\n",
    "\n",
    "card=input(\"ENTER THE CARD NUMBER\")\n",
    "LUHN(card)"
   ]
  },
  {
   "cell_type": "markdown",
   "metadata": {},
   "source": [
    "Task 2: Remove Punctuations from UserInput String (without using remove function)\n"
   ]
  },
  {
   "cell_type": "code",
   "execution_count": 2,
   "metadata": {},
   "outputs": [
    {
     "data": {
      "text/plain": [
       "' hello my name is fizza'"
      ]
     },
     "execution_count": 2,
     "metadata": {},
     "output_type": "execute_result"
    }
   ],
   "source": [
    "# Task 2: Remove Punctuations from UserInput String (without using remove function)\n",
    "def puntuation_remove(user_input):\n",
    "    puntuations=',!@#$%^&*()[]~|.''<>\"'\n",
    "    results =\" \" \n",
    "    for char in user_input:\n",
    "        if char not in puntuations:\n",
    "            results += char\n",
    "    return results\n",
    "\n",
    "user_input = input(\"Enter the string\")\n",
    "\n",
    "puntuation_remove(user_input)\n",
    "\n",
    "\n"
   ]
  },
  {
   "cell_type": "markdown",
   "metadata": {},
   "source": [
    "Task 3: Sort text (word) in Alphabetical Order (without using sort function)"
   ]
  },
  {
   "cell_type": "code",
   "execution_count": 3,
   "metadata": {},
   "outputs": [
    {
     "data": {
      "text/plain": [
       "'Python java machinelearning nlp sql'"
      ]
     },
     "execution_count": 3,
     "metadata": {},
     "output_type": "execute_result"
    }
   ],
   "source": [
    "# Task 3: Sort text (word) in Alphabetical Order (without using sort function)\n",
    "def text_sorted(words):\n",
    "    words=words.split()\n",
    "    sorted_words=[]\n",
    "\n",
    "    while words:\n",
    "        small_words=min(words)\n",
    "        sorted_words.append(small_words)\n",
    "        words.remove(small_words)\n",
    "\n",
    "    return \" \".join(sorted_words)\n",
    "\n",
    "sentence= \"Python sql machinelearning nlp java\"\n",
    "\n",
    "text_sorted(sentence)"
   ]
  },
  {
   "cell_type": "code",
   "execution_count": null,
   "metadata": {},
   "outputs": [],
   "source": []
  }
 ],
 "metadata": {
  "kernelspec": {
   "display_name": "Python 3",
   "language": "python",
   "name": "python3"
  },
  "language_info": {
   "codemirror_mode": {
    "name": "ipython",
    "version": 3
   },
   "file_extension": ".py",
   "mimetype": "text/x-python",
   "name": "python",
   "nbconvert_exporter": "python",
   "pygments_lexer": "ipython3",
   "version": "3.12.1"
  }
 },
 "nbformat": 4,
 "nbformat_minor": 2
}
